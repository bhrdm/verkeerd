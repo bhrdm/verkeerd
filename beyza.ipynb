{
 "cells": [
  {
   "cell_type": "code",
   "execution_count": 16,
   "metadata": {
    "id": "mZHzh1yZ6n1k"
   },
   "outputs": [],
   "source": [
    "import pandas as pd"
   ]
  },
  {
   "cell_type": "code",
   "execution_count": 22,
   "metadata": {},
   "outputs": [
    {
     "data": {
      "text/html": [
       "<div>\n",
       "<style scoped>\n",
       "    .dataframe tbody tr th:only-of-type {\n",
       "        vertical-align: middle;\n",
       "    }\n",
       "\n",
       "    .dataframe tbody tr th {\n",
       "        vertical-align: top;\n",
       "    }\n",
       "\n",
       "    .dataframe thead th {\n",
       "        text-align: right;\n",
       "    }\n",
       "</style>\n",
       "<table border=\"1\" class=\"dataframe\">\n",
       "  <thead>\n",
       "    <tr style=\"text-align: right;\">\n",
       "      <th></th>\n",
       "      <th>Soort misdrijf;\"Perioden\";\"Regio's\";\"Geregistreerde misdrijven/Totaal geregistreerde misdrijven (aantal)\"</th>\n",
       "    </tr>\n",
       "  </thead>\n",
       "  <tbody>\n",
       "    <tr>\n",
       "      <th>0</th>\n",
       "      <td>Misdrijven, totaal;\"2010\";\"Amsterdam\";100125</td>\n",
       "    </tr>\n",
       "    <tr>\n",
       "      <th>1</th>\n",
       "      <td>Misdrijven, totaal;\"2011\";\"Amsterdam\";103375</td>\n",
       "    </tr>\n",
       "    <tr>\n",
       "      <th>2</th>\n",
       "      <td>Misdrijven, totaal;\"2012\";\"Amsterdam\";101505</td>\n",
       "    </tr>\n",
       "    <tr>\n",
       "      <th>3</th>\n",
       "      <td>Misdrijven, totaal;\"2013\";\"Amsterdam\";101650</td>\n",
       "    </tr>\n",
       "    <tr>\n",
       "      <th>4</th>\n",
       "      <td>Misdrijven, totaal;\"2014\";\"Amsterdam\";96475</td>\n",
       "    </tr>\n",
       "    <tr>\n",
       "      <th>5</th>\n",
       "      <td>Misdrijven, totaal;\"2015\";\"Amsterdam\";96185</td>\n",
       "    </tr>\n",
       "    <tr>\n",
       "      <th>6</th>\n",
       "      <td>Misdrijven, totaal;\"2016\";\"Amsterdam\";91695</td>\n",
       "    </tr>\n",
       "    <tr>\n",
       "      <th>7</th>\n",
       "      <td>Misdrijven, totaal;\"2017\";\"Amsterdam\";86745</td>\n",
       "    </tr>\n",
       "    <tr>\n",
       "      <th>8</th>\n",
       "      <td>Misdrijven, totaal;\"2018\";\"Amsterdam\";81885</td>\n",
       "    </tr>\n",
       "    <tr>\n",
       "      <th>9</th>\n",
       "      <td>Misdrijven, totaal;\"2019\";\"Amsterdam\";82040</td>\n",
       "    </tr>\n",
       "  </tbody>\n",
       "</table>\n",
       "</div>"
      ],
      "text/plain": [
       "  Soort misdrijf;\"Perioden\";\"Regio's\";\"Geregistreerde misdrijven/Totaal geregistreerde misdrijven (aantal)\"\n",
       "0       Misdrijven, totaal;\"2010\";\"Amsterdam\";100125                                                       \n",
       "1       Misdrijven, totaal;\"2011\";\"Amsterdam\";103375                                                       \n",
       "2       Misdrijven, totaal;\"2012\";\"Amsterdam\";101505                                                       \n",
       "3       Misdrijven, totaal;\"2013\";\"Amsterdam\";101650                                                       \n",
       "4        Misdrijven, totaal;\"2014\";\"Amsterdam\";96475                                                       \n",
       "5        Misdrijven, totaal;\"2015\";\"Amsterdam\";96185                                                       \n",
       "6        Misdrijven, totaal;\"2016\";\"Amsterdam\";91695                                                       \n",
       "7        Misdrijven, totaal;\"2017\";\"Amsterdam\";86745                                                       \n",
       "8        Misdrijven, totaal;\"2018\";\"Amsterdam\";81885                                                       \n",
       "9        Misdrijven, totaal;\"2019\";\"Amsterdam\";82040                                                       "
      ]
     },
     "execution_count": 22,
     "metadata": {},
     "output_type": "execute_result"
    }
   ],
   "source": [
    "bestand_pad = 'Geregistreerde_criminaliteit_1.csv' \n",
    "df = pd.read_csv(bestand_pad)\n",
    "# Controleer de eerste paar rijen\n",
    "df.head(10)"
   ]
  },
  {
   "cell_type": "code",
   "execution_count": null,
   "metadata": {},
   "outputs": [],
   "source": []
  },
  {
   "cell_type": "code",
   "execution_count": null,
   "metadata": {},
   "outputs": [],
   "source": []
  }
 ],
 "metadata": {
  "colab": {
   "provenance": []
  },
  "interpreter": {
   "hash": "bd385fe162c5ca0c84973b7dd5c518456272446b2b64e67c2a69f949ca7a1754"
  },
  "kernelspec": {
   "display_name": "Python 3 (ipykernel)",
   "language": "python",
   "name": "python3"
  },
  "language_info": {
   "codemirror_mode": {
    "name": "ipython",
    "version": 3
   },
   "file_extension": ".py",
   "mimetype": "text/x-python",
   "name": "python",
   "nbconvert_exporter": "python",
   "pygments_lexer": "ipython3",
   "version": "3.10.5"
  }
 },
 "nbformat": 4,
 "nbformat_minor": 1
}
