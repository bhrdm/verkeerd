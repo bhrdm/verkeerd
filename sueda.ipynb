{
 "cells": [
  {
   "cell_type": "code",
   "execution_count": 10,
   "metadata": {},
   "outputs": [],
   "source": [
    "import pandas as pd\n",
    "import glob"
   ]
  },
  {
   "cell_type": "markdown",
   "metadata": {},
   "source": [
    "Deze code leest meerdere CSV-bestanden in een map en toont de eerste paar rijen van elk bestand:\n",
    "\n",
    "1. **Bibliotheken importeren**:\n",
    "   - **pandas** wordt gebruikt om de CSV-bestanden in te lezen.\n",
    "   - **glob** zoekt naar de CSV-bestanden in de map.\n",
    "\n",
    "   ```python\n",
    "   import pandas as pd\n",
    "   import glob\n"
   ]
  },
  {
   "cell_type": "code",
   "execution_count": 11,
   "metadata": {
    "scrolled": true
   },
   "outputs": [],
   "source": [
    "# folder_path = 'data/*.csv'\n",
    "\n",
    "# # Lees alle CSV-bestanden in een lijst van DataFrames\n",
    "# data_list = [pd.read_csv(file) for file in glob.glob(folder_path)]\n",
    "\n",
    "# # Loop door de lijst van DataFrames en toon de eerste paar rijen van elk bestand\n",
    "# for i, df in enumerate(data_list):\n",
    "#     print(f\"Bestand {i+1}:\")\n",
    "#     display(df.head())  # Dit toont de eerste paar rijen van elk bestand in Jupyter\n"
   ]
  },
  {
   "cell_type": "code",
   "execution_count": 12,
   "metadata": {},
   "outputs": [],
   "source": [
    "# bedreiging = pd.read_csv('data/misdrijven_bedreiging.csv')\n",
    "# cybercrime = pd.read_csv('data/misdrijven_cybercrime.csv')\n",
    "# discriminatie = pd.read_csv('data/misdrijven_discriminatie.csv')\n",
    "# drugs = pd.read_csv('data/misdrijven_drugs.csv')\n",
    "# brand_ontploffingen = pd.read_csv('data/misdrijven_brand_ontploffingen.csv')\n",
    "# inbraak_woning = pd.read_csv('data/misdrijven_inbraak_woning.csv')\n",
    "# mishandelingen = pd.read_csv('data/misdrijven_mishandeling.csv')\n",
    "# moord_doodslag = pd.read_csv('data/misdrijven_moord_doodslag.csv')\n",
    "# ongevallen_weg = pd.read_csv('data/misdrijven_ongevallen_weg.csv')\n",
    "# overval = pd.read_csv('data/misdrijven_overval.csv')\n",
    "# vuurwerk = pd.read_csv('data/misdrijven_vuurwerk.csv')\n",
    "# wapenhandel = pd.read_csv('data/misdrijven_wapenhandel.csv')\n",
    "# winkeldiefstal = pd.read_csv('data/misdrijven_winkeldiefstal.csv')\n",
    "# motorvoertuigen = pd.read_csv('data/misdrijven_motorvoertuigen.csv')\n",
    "\n"
   ]
  },
  {
   "cell_type": "code",
   "execution_count": 15,
   "metadata": {},
   "outputs": [],
   "source": [
    "data = [\n",
    "    'data/misdrijven_bedreiging.csv',\n",
    "    'data/misdrijven_cybercrime.csv',\n",
    "    'data/misdrijven_discriminatie.csv',\n",
    "    'data/misdrijven_drugs.csv',\n",
    "    'data/misdrijven_brand_ontploffingen.csv',\n",
    "    'data/misdrijven_inbraak_woning.csv',\n",
    "    'data/misdrijven_mishandeling.csv',\n",
    "    'data/misdrijven_moord_doodslag.csv',\n",
    "    'data/misdrijven_ongevallen_weg.csv',\n",
    "    'data/misdrijven_overval.csv',\n",
    "    'data/misdrijven_vuurwerk.csv',\n",
    "    'data/misdrijven_wapenhandel.csv',\n",
    "    'data/misdrijven_winkeldiefstal.csv',\n",
    "    'data/misdrijven_motorvoertuigen.csv'\n",
    "]"
   ]
  },
  {
   "cell_type": "code",
   "execution_count": 16,
   "metadata": {},
   "outputs": [
    {
     "data": {
      "text/html": [
       "<div>\n",
       "<style scoped>\n",
       "    .dataframe tbody tr th:only-of-type {\n",
       "        vertical-align: middle;\n",
       "    }\n",
       "\n",
       "    .dataframe tbody tr th {\n",
       "        vertical-align: top;\n",
       "    }\n",
       "\n",
       "    .dataframe thead th {\n",
       "        text-align: right;\n",
       "    }\n",
       "</style>\n",
       "<table border=\"1\" class=\"dataframe\">\n",
       "  <thead>\n",
       "    <tr style=\"text-align: right;\">\n",
       "      <th></th>\n",
       "      <th>Soort misdrijf</th>\n",
       "      <th>Perioden</th>\n",
       "      <th>Wijken en buurten</th>\n",
       "      <th>Geregistreerde misdrijven (aantal)</th>\n",
       "    </tr>\n",
       "  </thead>\n",
       "  <tbody>\n",
       "    <tr>\n",
       "      <th>0</th>\n",
       "      <td>Diefstal van motorvoertuigen</td>\n",
       "      <td>2012</td>\n",
       "      <td>Amsterdam</td>\n",
       "      <td>1907</td>\n",
       "    </tr>\n",
       "    <tr>\n",
       "      <th>1</th>\n",
       "      <td>Diefstal van motorvoertuigen</td>\n",
       "      <td>2013</td>\n",
       "      <td>Amsterdam</td>\n",
       "      <td>2055</td>\n",
       "    </tr>\n",
       "    <tr>\n",
       "      <th>2</th>\n",
       "      <td>Diefstal van motorvoertuigen</td>\n",
       "      <td>2014</td>\n",
       "      <td>Amsterdam</td>\n",
       "      <td>1905</td>\n",
       "    </tr>\n",
       "    <tr>\n",
       "      <th>3</th>\n",
       "      <td>Diefstal van motorvoertuigen</td>\n",
       "      <td>2015</td>\n",
       "      <td>Amsterdam</td>\n",
       "      <td>1734</td>\n",
       "    </tr>\n",
       "    <tr>\n",
       "      <th>4</th>\n",
       "      <td>Diefstal van motorvoertuigen</td>\n",
       "      <td>2016</td>\n",
       "      <td>Amsterdam</td>\n",
       "      <td>1611</td>\n",
       "    </tr>\n",
       "    <tr>\n",
       "      <th>...</th>\n",
       "      <td>...</td>\n",
       "      <td>...</td>\n",
       "      <td>...</td>\n",
       "      <td>...</td>\n",
       "    </tr>\n",
       "    <tr>\n",
       "      <th>7531</th>\n",
       "      <td>Diefstal van motorvoertuigen</td>\n",
       "      <td>2019</td>\n",
       "      <td>Gein 4</td>\n",
       "      <td>6</td>\n",
       "    </tr>\n",
       "    <tr>\n",
       "      <th>7532</th>\n",
       "      <td>Diefstal van motorvoertuigen</td>\n",
       "      <td>2020</td>\n",
       "      <td>Gein 4</td>\n",
       "      <td>3</td>\n",
       "    </tr>\n",
       "    <tr>\n",
       "      <th>7533</th>\n",
       "      <td>Diefstal van motorvoertuigen</td>\n",
       "      <td>2021</td>\n",
       "      <td>Gein 4</td>\n",
       "      <td>3</td>\n",
       "    </tr>\n",
       "    <tr>\n",
       "      <th>7534</th>\n",
       "      <td>Diefstal van motorvoertuigen</td>\n",
       "      <td>2022</td>\n",
       "      <td>Gein 4</td>\n",
       "      <td>9</td>\n",
       "    </tr>\n",
       "    <tr>\n",
       "      <th>7535</th>\n",
       "      <td>Diefstal van motorvoertuigen</td>\n",
       "      <td>2023</td>\n",
       "      <td>Gein 4</td>\n",
       "      <td>3</td>\n",
       "    </tr>\n",
       "  </tbody>\n",
       "</table>\n",
       "<p>7536 rows × 4 columns</p>\n",
       "</div>"
      ],
      "text/plain": [
       "                    Soort misdrijf  Perioden Wijken en buurten  \\\n",
       "0     Diefstal van motorvoertuigen      2012         Amsterdam   \n",
       "1     Diefstal van motorvoertuigen      2013         Amsterdam   \n",
       "2     Diefstal van motorvoertuigen      2014         Amsterdam   \n",
       "3     Diefstal van motorvoertuigen      2015         Amsterdam   \n",
       "4     Diefstal van motorvoertuigen      2016         Amsterdam   \n",
       "...                            ...       ...               ...   \n",
       "7531  Diefstal van motorvoertuigen      2019            Gein 4   \n",
       "7532  Diefstal van motorvoertuigen      2020            Gein 4   \n",
       "7533  Diefstal van motorvoertuigen      2021            Gein 4   \n",
       "7534  Diefstal van motorvoertuigen      2022            Gein 4   \n",
       "7535  Diefstal van motorvoertuigen      2023            Gein 4   \n",
       "\n",
       "      Geregistreerde misdrijven (aantal)  \n",
       "0                                   1907  \n",
       "1                                   2055  \n",
       "2                                   1905  \n",
       "3                                   1734  \n",
       "4                                   1611  \n",
       "...                                  ...  \n",
       "7531                                   6  \n",
       "7532                                   3  \n",
       "7533                                   3  \n",
       "7534                                   9  \n",
       "7535                                   3  \n",
       "\n",
       "[7536 rows x 4 columns]"
      ]
     },
     "execution_count": 16,
     "metadata": {},
     "output_type": "execute_result"
    }
   ],
   "source": [
    "pd.set_option('display.max_columns', None)\n",
    "df "
   ]
  },
  {
   "cell_type": "code",
   "execution_count": 9,
   "metadata": {},
   "outputs": [
    {
     "name": "stdout",
     "output_type": "stream",
     "text": [
      "  Soort misdrijf  Perioden Wijken en buurten  \\\n",
      "0     Bedreiging      2012         Amsterdam   \n",
      "1     Bedreiging      2013         Amsterdam   \n",
      "2     Bedreiging      2014         Amsterdam   \n",
      "3     Bedreiging      2015         Amsterdam   \n",
      "4     Bedreiging      2016         Amsterdam   \n",
      "\n",
      "   Geregistreerde misdrijven (aantal)  \n",
      "0                                3427  \n",
      "1                                3297  \n",
      "2                                3340  \n",
      "3                                3140  \n",
      "4                                3017  \n"
     ]
    }
   ],
   "source": [
    "# Lees alle bestanden in en voeg ze toe aan een lijst\n",
    "datasets = [pd.read_csv(file, sep=';') for file in data]\n",
    "\n",
    "# Verwijder de nummers in de 'Soort misdrijf' kolom voor elke dataset\n",
    "for df in datasets:\n",
    "    df['Soort misdrijf'] = df['Soort misdrijf'].str.replace(r'^\\d+\\.\\d+\\.\\d+\\s?', '', regex=True)\n",
    "\n",
    "# Bekijk de eerste paar rijen van de eerste dataset om te controleren\n",
    "print(datasets[0].head())"
   ]
  },
  {
   "cell_type": "code",
   "execution_count": null,
   "metadata": {},
   "outputs": [],
   "source": []
  }
 ],
 "metadata": {
  "colab": {
   "provenance": []
  },
  "kernelspec": {
   "display_name": "Python 3 (ipykernel)",
   "language": "python",
   "name": "python3"
  },
  "language_info": {
   "codemirror_mode": {
    "name": "ipython",
    "version": 3
   },
   "file_extension": ".py",
   "mimetype": "text/x-python",
   "name": "python",
   "nbconvert_exporter": "python",
   "pygments_lexer": "ipython3",
   "version": "3.10.4"
  }
 },
 "nbformat": 4,
 "nbformat_minor": 1
}
