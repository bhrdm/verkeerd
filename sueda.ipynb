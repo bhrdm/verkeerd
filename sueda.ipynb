{
 "cells": [
  {
   "cell_type": "code",
   "execution_count": 85,
   "metadata": {},
   "outputs": [],
   "source": [
    "import pandas as pd\n",
    "import glob"
   ]
  },
  {
   "cell_type": "markdown",
   "metadata": {},
   "source": [
    "Deze code leest meerdere CSV-bestanden in een map en toont de eerste paar rijen van elk bestand:\n",
    "\n",
    "1. **Bibliotheken importeren**:\n",
    "   - **pandas** wordt gebruikt om de CSV-bestanden in te lezen.\n",
    "   - **glob** zoekt naar de CSV-bestanden in de map.\n",
    "\n",
    "   ```python\n",
    "   import pandas as pd\n",
    "   import glob\n"
   ]
  },
  {
   "cell_type": "code",
   "execution_count": 86,
   "metadata": {
    "scrolled": true
   },
   "outputs": [],
   "source": [
    "# folder_path = 'data/*.csv'\n",
    "\n",
    "# # Lees alle CSV-bestanden in een lijst van DataFrames\n",
    "# data_list = [pd.read_csv(file) for file in glob.glob(folder_path)]\n",
    "\n",
    "# # Loop door de lijst van DataFrames en toon de eerste paar rijen van elk bestand\n",
    "# for i, df in enumerate(data_list):\n",
    "#     print(f\"Bestand {i+1}:\")\n",
    "#     display(df.head())  # Dit toont de eerste paar rijen van elk bestand in Jupyter\n"
   ]
  },
  {
   "cell_type": "code",
   "execution_count": 87,
   "metadata": {},
   "outputs": [],
   "source": [
    "# bedreiging = pd.read_csv('data/misdrijven_bedreiging.csv')\n",
    "# cybercrime = pd.read_csv('data/misdrijven_cybercrime.csv')\n",
    "# discriminatie = pd.read_csv('data/misdrijven_discriminatie.csv')\n",
    "# drugs = pd.read_csv('data/misdrijven_drugs.csv')\n",
    "# brand_ontploffingen = pd.read_csv('data/misdrijven_brand_ontploffingen.csv')\n",
    "# inbraak_woning = pd.read_csv('data/misdrijven_inbraak_woning.csv')\n",
    "# mishandelingen = pd.read_csv('data/misdrijven_mishandeling.csv')\n",
    "# moord_doodslag = pd.read_csv('data/misdrijven_moord_doodslag.csv')\n",
    "# ongevallen_weg = pd.read_csv('data/misdrijven_ongevallen_weg.csv')\n",
    "# overval = pd.read_csv('data/misdrijven_overval.csv')\n",
    "# vuurwerk = pd.read_csv('data/misdrijven_vuurwerk.csv')\n",
    "# wapenhandel = pd.read_csv('data/misdrijven_wapenhandel.csv')\n",
    "# winkeldiefstal = pd.read_csv('data/misdrijven_winkeldiefstal.csv')\n",
    "# motorvoertuigen = pd.read_csv('data/misdrijven_motorvoertuigen.csv')\n",
    "\n"
   ]
  },
  {
   "cell_type": "code",
   "execution_count": 90,
   "metadata": {},
   "outputs": [],
   "source": [
    "data = [\n",
    "    'data/misdrijven_bedreiging.csv',\n",
    "    'data/misdrijven_cybercrime.csv',\n",
    "    'data/misdrijven_discriminatie.csv',\n",
    "    'data/misdrijven_drugs.csv',\n",
    "    'data/misdrijven_brand_ontploffingen.csv',\n",
    "    'data/misdrijven_inbraak_woning.csv',\n",
    "    'data/misdrijven_mishandeling.csv',\n",
    "    'data/misdrijven_moord_doodslag.csv',\n",
    "    'data/misdrijven_ongevallen_weg.csv',\n",
    "    'data/misdrijven_overval.csv',\n",
    "    'data/misdrijven_vuurwerk.csv',\n",
    "    'data/misdrijven_wapenhandel.csv',\n",
    "    'data/misdrijven_winkeldiefstal.csv',\n",
    "    'data/misdrijven_motorvoertuigen.csv'\n",
    "]"
   ]
  },
  {
   "cell_type": "code",
   "execution_count": 91,
   "metadata": {},
   "outputs": [
    {
     "data": {
      "text/html": [
       "<div>\n",
       "<style scoped>\n",
       "    .dataframe tbody tr th:only-of-type {\n",
       "        vertical-align: middle;\n",
       "    }\n",
       "\n",
       "    .dataframe tbody tr th {\n",
       "        vertical-align: top;\n",
       "    }\n",
       "\n",
       "    .dataframe thead th {\n",
       "        text-align: right;\n",
       "    }\n",
       "</style>\n",
       "<table border=\"1\" class=\"dataframe\">\n",
       "  <thead>\n",
       "    <tr style=\"text-align: right;\">\n",
       "      <th></th>\n",
       "      <th>Soort misdrijf;\"Perioden\";\"Wijken en buurten\";\"Geregistreerde misdrijven (aantal)\"</th>\n",
       "    </tr>\n",
       "  </thead>\n",
       "  <tbody>\n",
       "    <tr>\n",
       "      <th>0</th>\n",
       "      <td>1.4.4 Bedreiging;\"2012\";\"Amsterdam\";\"    3427\"</td>\n",
       "    </tr>\n",
       "    <tr>\n",
       "      <th>1</th>\n",
       "      <td>1.4.4 Bedreiging;\"2013\";\"Amsterdam\";\"    3297\"</td>\n",
       "    </tr>\n",
       "    <tr>\n",
       "      <th>2</th>\n",
       "      <td>1.4.4 Bedreiging;\"2014\";\"Amsterdam\";\"    3340\"</td>\n",
       "    </tr>\n",
       "    <tr>\n",
       "      <th>3</th>\n",
       "      <td>1.4.4 Bedreiging;\"2015\";\"Amsterdam\";\"    3140\"</td>\n",
       "    </tr>\n",
       "    <tr>\n",
       "      <th>4</th>\n",
       "      <td>1.4.4 Bedreiging;\"2016\";\"Amsterdam\";\"    3017\"</td>\n",
       "    </tr>\n",
       "    <tr>\n",
       "      <th>...</th>\n",
       "      <td>...</td>\n",
       "    </tr>\n",
       "    <tr>\n",
       "      <th>7531</th>\n",
       "      <td>1.4.4 Bedreiging;\"2019\";\"Gein 4\";\"       3\"</td>\n",
       "    </tr>\n",
       "    <tr>\n",
       "      <th>7532</th>\n",
       "      <td>1.4.4 Bedreiging;\"2020\";\"Gein 4\";\"       8\"</td>\n",
       "    </tr>\n",
       "    <tr>\n",
       "      <th>7533</th>\n",
       "      <td>1.4.4 Bedreiging;\"2021\";\"Gein 4\";\"      11\"</td>\n",
       "    </tr>\n",
       "    <tr>\n",
       "      <th>7534</th>\n",
       "      <td>1.4.4 Bedreiging;\"2022\";\"Gein 4\";\"       4\"</td>\n",
       "    </tr>\n",
       "    <tr>\n",
       "      <th>7535</th>\n",
       "      <td>1.4.4 Bedreiging;\"2023\";\"Gein 4\";\"       5\"</td>\n",
       "    </tr>\n",
       "  </tbody>\n",
       "</table>\n",
       "<p>7536 rows × 1 columns</p>\n",
       "</div>"
      ],
      "text/plain": [
       "     Soort misdrijf;\"Perioden\";\"Wijken en buurten\";\"Geregistreerde misdrijven (aantal)\"\n",
       "0        1.4.4 Bedreiging;\"2012\";\"Amsterdam\";\"    3427\"                                \n",
       "1        1.4.4 Bedreiging;\"2013\";\"Amsterdam\";\"    3297\"                                \n",
       "2        1.4.4 Bedreiging;\"2014\";\"Amsterdam\";\"    3340\"                                \n",
       "3        1.4.4 Bedreiging;\"2015\";\"Amsterdam\";\"    3140\"                                \n",
       "4        1.4.4 Bedreiging;\"2016\";\"Amsterdam\";\"    3017\"                                \n",
       "...                                                 ...                                \n",
       "7531        1.4.4 Bedreiging;\"2019\";\"Gein 4\";\"       3\"                                \n",
       "7532        1.4.4 Bedreiging;\"2020\";\"Gein 4\";\"       8\"                                \n",
       "7533        1.4.4 Bedreiging;\"2021\";\"Gein 4\";\"      11\"                                \n",
       "7534        1.4.4 Bedreiging;\"2022\";\"Gein 4\";\"       4\"                                \n",
       "7535        1.4.4 Bedreiging;\"2023\";\"Gein 4\";\"       5\"                                \n",
       "\n",
       "[7536 rows x 1 columns]"
      ]
     },
     "execution_count": 91,
     "metadata": {},
     "output_type": "execute_result"
    }
   ],
   "source": [
    "pd.set_option('display.max_columns', None)\n",
    "df "
   ]
  },
  {
   "cell_type": "code",
   "execution_count": 92,
   "metadata": {},
   "outputs": [
    {
     "name": "stdout",
     "output_type": "stream",
     "text": [
      "  Soort misdrijf  Perioden Wijken en buurten  \\\n",
      "0     Bedreiging      2012         Amsterdam   \n",
      "1     Bedreiging      2013         Amsterdam   \n",
      "2     Bedreiging      2014         Amsterdam   \n",
      "3     Bedreiging      2015         Amsterdam   \n",
      "4     Bedreiging      2016         Amsterdam   \n",
      "\n",
      "   Geregistreerde misdrijven (aantal)  \n",
      "0                                3427  \n",
      "1                                3297  \n",
      "2                                3340  \n",
      "3                                3140  \n",
      "4                                3017  \n"
     ]
    }
   ],
   "source": [
    "# Lees alle bestanden in en voeg ze toe aan een lijst\n",
    "datasets = [pd.read_csv(file, sep=';') for file in data]\n",
    "\n",
    "# Verwijder de nummers in de 'Soort misdrijf' kolom voor elke dataset\n",
    "for df in datasets:\n",
    "    df['Soort misdrijf'] = df['Soort misdrijf'].str.replace(r'^\\d+\\.\\d+\\.\\d+\\s?', '', regex=True)\n",
    "\n",
    "# Bekijk de eerste paar rijen van de eerste dataset om te controleren\n",
    "print(datasets[0].head())"
   ]
  },
  {
   "cell_type": "code",
   "execution_count": null,
   "metadata": {},
   "outputs": [],
   "source": []
  },
  {
   "cell_type": "code",
   "execution_count": null,
   "metadata": {},
   "outputs": [],
   "source": []
  },
  {
   "cell_type": "code",
   "execution_count": null,
   "metadata": {},
   "outputs": [],
   "source": []
  }
 ],
 "metadata": {
  "colab": {
   "provenance": []
  },
  "kernelspec": {
   "display_name": "Python 3 (ipykernel)",
   "language": "python",
   "name": "python3"
  },
  "language_info": {
   "codemirror_mode": {
    "name": "ipython",
    "version": 3
   },
   "file_extension": ".py",
   "mimetype": "text/x-python",
   "name": "python",
   "nbconvert_exporter": "python",
   "pygments_lexer": "ipython3",
   "version": "3.10.4"
  }
 },
 "nbformat": 4,
 "nbformat_minor": 1
}
