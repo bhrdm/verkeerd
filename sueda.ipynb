{
 "cells": [
  {
   "cell_type": "code",
   "execution_count": 54,
   "metadata": {},
   "outputs": [],
   "source": [
    "import pandas as pd\n",
    "import glob"
   ]
  },
  {
   "cell_type": "markdown",
   "metadata": {},
   "source": [
    "Deze code leest meerdere CSV-bestanden in een map en toont de eerste paar rijen van elk bestand:\n",
    "\n",
    "1. **Bibliotheken importeren**:\n",
    "   - **pandas** wordt gebruikt om de CSV-bestanden in te lezen.\n",
    "   - **glob** zoekt naar de CSV-bestanden in de map.\n",
    "\n",
    "   ```python\n",
    "   import pandas as pd\n",
    "   import glob\n"
   ]
  },
  {
   "cell_type": "code",
   "execution_count": 61,
   "metadata": {
    "scrolled": true
   },
   "outputs": [],
   "source": [
    "# folder_path = 'data/*.csv'\n",
    "\n",
    "# # Lees alle CSV-bestanden in een lijst van DataFrames\n",
    "# data_list = [pd.read_csv(file) for file in glob.glob(folder_path)]\n",
    "\n",
    "# # Loop door de lijst van DataFrames en toon de eerste paar rijen van elk bestand\n",
    "# for i, df in enumerate(data_list):\n",
    "#     print(f\"Bestand {i+1}:\")\n",
    "#     display(df.head())  # Dit toont de eerste paar rijen van elk bestand in Jupyter\n"
   ]
  },
  {
   "cell_type": "code",
   "execution_count": 62,
   "metadata": {},
   "outputs": [],
   "source": [
    "bedreiging = pd.read_csv('data/misdrijven_bedreiging.csv')\n",
    "cybercrime = pd.read_csv('data/misdrijven_cybercrime.csv')\n",
    "discriminatie = pd.read_csv('data/misdrijven_discriminatie.csv')\n",
    "drugs = pd.read_csv('data/misdrijven_drugs.csv')\n",
    "brand_ontploffingen = pd.read_csv('data/misdrijven_brand_ontploffingen.csv')\n",
    "inbraak_woning = pd.read_csv('data/misdrijven_inbraak_woning.csv')\n",
    "mishandelingen = pd.read_csv('data/misdrijven_mishandeling.csv')\n",
    "moord_doodslag = pd.read_csv('data/misdrijven_moord_doodslag.csv')\n",
    "ongevallen_weg = pd.read_csv('data/misdrijven_ongevallen_weg.csv')\n",
    "overval = pd.read_csv('data/misdrijven_overval.csv')\n",
    "vuurwerk = pd.read_csv('data/misdrijven_vuurwerk.csv')\n",
    "wapenhandel = pd.read_csv('data/misdrijven_wapenhandel.csv')\n",
    "winkeldiefstal = pd.read_csv('data/misdrijven_winkeldiefstal.csv')\n",
    "motorvoertuigen = pd.read_csv('data/misdrijven_motorvoertuigen.csv')\n",
    "\n"
   ]
  },
  {
   "cell_type": "code",
   "execution_count": null,
   "metadata": {},
   "outputs": [],
   "source": []
  },
  {
   "cell_type": "code",
   "execution_count": 63,
   "metadata": {},
   "outputs": [
    {
     "data": {
      "text/html": [
       "<div>\n",
       "<style scoped>\n",
       "    .dataframe tbody tr th:only-of-type {\n",
       "        vertical-align: middle;\n",
       "    }\n",
       "\n",
       "    .dataframe tbody tr th {\n",
       "        vertical-align: top;\n",
       "    }\n",
       "\n",
       "    .dataframe thead th {\n",
       "        text-align: right;\n",
       "    }\n",
       "</style>\n",
       "<table border=\"1\" class=\"dataframe\">\n",
       "  <thead>\n",
       "    <tr style=\"text-align: right;\">\n",
       "      <th></th>\n",
       "      <th>Soort misdrijf;\"Perioden\";\"Wijken en buurten\";\"Geregistreerde misdrijven (aantal)\"</th>\n",
       "    </tr>\n",
       "  </thead>\n",
       "  <tbody>\n",
       "    <tr>\n",
       "      <th>0</th>\n",
       "      <td>1.4.4 Bedreiging;\"2012\";\"Amsterdam\";\"    3427\"</td>\n",
       "    </tr>\n",
       "    <tr>\n",
       "      <th>1</th>\n",
       "      <td>1.4.4 Bedreiging;\"2013\";\"Amsterdam\";\"    3297\"</td>\n",
       "    </tr>\n",
       "    <tr>\n",
       "      <th>2</th>\n",
       "      <td>1.4.4 Bedreiging;\"2014\";\"Amsterdam\";\"    3340\"</td>\n",
       "    </tr>\n",
       "    <tr>\n",
       "      <th>3</th>\n",
       "      <td>1.4.4 Bedreiging;\"2015\";\"Amsterdam\";\"    3140\"</td>\n",
       "    </tr>\n",
       "    <tr>\n",
       "      <th>4</th>\n",
       "      <td>1.4.4 Bedreiging;\"2016\";\"Amsterdam\";\"    3017\"</td>\n",
       "    </tr>\n",
       "    <tr>\n",
       "      <th>...</th>\n",
       "      <td>...</td>\n",
       "    </tr>\n",
       "    <tr>\n",
       "      <th>7531</th>\n",
       "      <td>1.4.4 Bedreiging;\"2019\";\"Gein 4\";\"       3\"</td>\n",
       "    </tr>\n",
       "    <tr>\n",
       "      <th>7532</th>\n",
       "      <td>1.4.4 Bedreiging;\"2020\";\"Gein 4\";\"       8\"</td>\n",
       "    </tr>\n",
       "    <tr>\n",
       "      <th>7533</th>\n",
       "      <td>1.4.4 Bedreiging;\"2021\";\"Gein 4\";\"      11\"</td>\n",
       "    </tr>\n",
       "    <tr>\n",
       "      <th>7534</th>\n",
       "      <td>1.4.4 Bedreiging;\"2022\";\"Gein 4\";\"       4\"</td>\n",
       "    </tr>\n",
       "    <tr>\n",
       "      <th>7535</th>\n",
       "      <td>1.4.4 Bedreiging;\"2023\";\"Gein 4\";\"       5\"</td>\n",
       "    </tr>\n",
       "  </tbody>\n",
       "</table>\n",
       "<p>7536 rows × 1 columns</p>\n",
       "</div>"
      ],
      "text/plain": [
       "     Soort misdrijf;\"Perioden\";\"Wijken en buurten\";\"Geregistreerde misdrijven (aantal)\"\n",
       "0        1.4.4 Bedreiging;\"2012\";\"Amsterdam\";\"    3427\"                                \n",
       "1        1.4.4 Bedreiging;\"2013\";\"Amsterdam\";\"    3297\"                                \n",
       "2        1.4.4 Bedreiging;\"2014\";\"Amsterdam\";\"    3340\"                                \n",
       "3        1.4.4 Bedreiging;\"2015\";\"Amsterdam\";\"    3140\"                                \n",
       "4        1.4.4 Bedreiging;\"2016\";\"Amsterdam\";\"    3017\"                                \n",
       "...                                                 ...                                \n",
       "7531        1.4.4 Bedreiging;\"2019\";\"Gein 4\";\"       3\"                                \n",
       "7532        1.4.4 Bedreiging;\"2020\";\"Gein 4\";\"       8\"                                \n",
       "7533        1.4.4 Bedreiging;\"2021\";\"Gein 4\";\"      11\"                                \n",
       "7534        1.4.4 Bedreiging;\"2022\";\"Gein 4\";\"       4\"                                \n",
       "7535        1.4.4 Bedreiging;\"2023\";\"Gein 4\";\"       5\"                                \n",
       "\n",
       "[7536 rows x 1 columns]"
      ]
     },
     "execution_count": 63,
     "metadata": {},
     "output_type": "execute_result"
    }
   ],
   "source": [
    "pd.set_option('display.max_columns', None)\n",
    "df "
   ]
  },
  {
   "cell_type": "code",
   "execution_count": 64,
   "metadata": {},
   "outputs": [
    {
     "ename": "KeyError",
     "evalue": "'Soort misdrijf'",
     "output_type": "error",
     "traceback": [
      "\u001b[0;31m---------------------------------------------------------------------------\u001b[0m",
      "\u001b[0;31mKeyError\u001b[0m                                  Traceback (most recent call last)",
      "File \u001b[0;32m/Library/Frameworks/Python.framework/Versions/3.10/lib/python3.10/site-packages/pandas/core/indexes/base.py:3805\u001b[0m, in \u001b[0;36mIndex.get_loc\u001b[0;34m(self, key)\u001b[0m\n\u001b[1;32m   3804\u001b[0m \u001b[38;5;28;01mtry\u001b[39;00m:\n\u001b[0;32m-> 3805\u001b[0m     \u001b[38;5;28;01mreturn\u001b[39;00m \u001b[38;5;28;43mself\u001b[39;49m\u001b[38;5;241;43m.\u001b[39;49m\u001b[43m_engine\u001b[49m\u001b[38;5;241;43m.\u001b[39;49m\u001b[43mget_loc\u001b[49m\u001b[43m(\u001b[49m\u001b[43mcasted_key\u001b[49m\u001b[43m)\u001b[49m\n\u001b[1;32m   3806\u001b[0m \u001b[38;5;28;01mexcept\u001b[39;00m \u001b[38;5;167;01mKeyError\u001b[39;00m \u001b[38;5;28;01mas\u001b[39;00m err:\n",
      "File \u001b[0;32mindex.pyx:167\u001b[0m, in \u001b[0;36mpandas._libs.index.IndexEngine.get_loc\u001b[0;34m()\u001b[0m\n",
      "File \u001b[0;32mindex.pyx:196\u001b[0m, in \u001b[0;36mpandas._libs.index.IndexEngine.get_loc\u001b[0;34m()\u001b[0m\n",
      "File \u001b[0;32mpandas/_libs/hashtable_class_helper.pxi:7081\u001b[0m, in \u001b[0;36mpandas._libs.hashtable.PyObjectHashTable.get_item\u001b[0;34m()\u001b[0m\n",
      "File \u001b[0;32mpandas/_libs/hashtable_class_helper.pxi:7089\u001b[0m, in \u001b[0;36mpandas._libs.hashtable.PyObjectHashTable.get_item\u001b[0;34m()\u001b[0m\n",
      "\u001b[0;31mKeyError\u001b[0m: 'Soort misdrijf'",
      "\nThe above exception was the direct cause of the following exception:\n",
      "\u001b[0;31mKeyError\u001b[0m                                  Traceback (most recent call last)",
      "Cell \u001b[0;32mIn[64], line 7\u001b[0m\n\u001b[1;32m      5\u001b[0m \u001b[38;5;66;03m# Eenvoudige manier om 'Soort misdrijf' op te schonen in alle datasets\u001b[39;00m\n\u001b[1;32m      6\u001b[0m \u001b[38;5;28;01mfor\u001b[39;00m df \u001b[38;5;129;01min\u001b[39;00m datasets:\n\u001b[0;32m----> 7\u001b[0m     df[\u001b[38;5;124m'\u001b[39m\u001b[38;5;124mSoort misdrijf\u001b[39m\u001b[38;5;124m'\u001b[39m] \u001b[38;5;241m=\u001b[39m \u001b[43mdf\u001b[49m\u001b[43m[\u001b[49m\u001b[38;5;124;43m'\u001b[39;49m\u001b[38;5;124;43mSoort misdrijf\u001b[39;49m\u001b[38;5;124;43m'\u001b[39;49m\u001b[43m]\u001b[49m\u001b[38;5;241m.\u001b[39mstr\u001b[38;5;241m.\u001b[39msplit(\u001b[38;5;124m'\u001b[39m\u001b[38;5;124m \u001b[39m\u001b[38;5;124m'\u001b[39m, n\u001b[38;5;241m=\u001b[39m\u001b[38;5;241m1\u001b[39m)\u001b[38;5;241m.\u001b[39mstr[\u001b[38;5;241m1\u001b[39m]\n\u001b[1;32m      9\u001b[0m \u001b[38;5;66;03m# Je datasets zijn nu opgeschoond, bijvoorbeeld:\u001b[39;00m\n\u001b[1;32m     10\u001b[0m datasets[\u001b[38;5;241m0\u001b[39m]\u001b[38;5;241m.\u001b[39mhead()  \u001b[38;5;66;03m# Bekijk de eerste paar rijen van de 'bedreiging' dataset\u001b[39;00m\n",
      "File \u001b[0;32m/Library/Frameworks/Python.framework/Versions/3.10/lib/python3.10/site-packages/pandas/core/frame.py:4102\u001b[0m, in \u001b[0;36mDataFrame.__getitem__\u001b[0;34m(self, key)\u001b[0m\n\u001b[1;32m   4100\u001b[0m \u001b[38;5;28;01mif\u001b[39;00m \u001b[38;5;28mself\u001b[39m\u001b[38;5;241m.\u001b[39mcolumns\u001b[38;5;241m.\u001b[39mnlevels \u001b[38;5;241m>\u001b[39m \u001b[38;5;241m1\u001b[39m:\n\u001b[1;32m   4101\u001b[0m     \u001b[38;5;28;01mreturn\u001b[39;00m \u001b[38;5;28mself\u001b[39m\u001b[38;5;241m.\u001b[39m_getitem_multilevel(key)\n\u001b[0;32m-> 4102\u001b[0m indexer \u001b[38;5;241m=\u001b[39m \u001b[38;5;28;43mself\u001b[39;49m\u001b[38;5;241;43m.\u001b[39;49m\u001b[43mcolumns\u001b[49m\u001b[38;5;241;43m.\u001b[39;49m\u001b[43mget_loc\u001b[49m\u001b[43m(\u001b[49m\u001b[43mkey\u001b[49m\u001b[43m)\u001b[49m\n\u001b[1;32m   4103\u001b[0m \u001b[38;5;28;01mif\u001b[39;00m is_integer(indexer):\n\u001b[1;32m   4104\u001b[0m     indexer \u001b[38;5;241m=\u001b[39m [indexer]\n",
      "File \u001b[0;32m/Library/Frameworks/Python.framework/Versions/3.10/lib/python3.10/site-packages/pandas/core/indexes/base.py:3812\u001b[0m, in \u001b[0;36mIndex.get_loc\u001b[0;34m(self, key)\u001b[0m\n\u001b[1;32m   3807\u001b[0m     \u001b[38;5;28;01mif\u001b[39;00m \u001b[38;5;28misinstance\u001b[39m(casted_key, \u001b[38;5;28mslice\u001b[39m) \u001b[38;5;129;01mor\u001b[39;00m (\n\u001b[1;32m   3808\u001b[0m         \u001b[38;5;28misinstance\u001b[39m(casted_key, abc\u001b[38;5;241m.\u001b[39mIterable)\n\u001b[1;32m   3809\u001b[0m         \u001b[38;5;129;01mand\u001b[39;00m \u001b[38;5;28many\u001b[39m(\u001b[38;5;28misinstance\u001b[39m(x, \u001b[38;5;28mslice\u001b[39m) \u001b[38;5;28;01mfor\u001b[39;00m x \u001b[38;5;129;01min\u001b[39;00m casted_key)\n\u001b[1;32m   3810\u001b[0m     ):\n\u001b[1;32m   3811\u001b[0m         \u001b[38;5;28;01mraise\u001b[39;00m InvalidIndexError(key)\n\u001b[0;32m-> 3812\u001b[0m     \u001b[38;5;28;01mraise\u001b[39;00m \u001b[38;5;167;01mKeyError\u001b[39;00m(key) \u001b[38;5;28;01mfrom\u001b[39;00m \u001b[38;5;21;01merr\u001b[39;00m\n\u001b[1;32m   3813\u001b[0m \u001b[38;5;28;01mexcept\u001b[39;00m \u001b[38;5;167;01mTypeError\u001b[39;00m:\n\u001b[1;32m   3814\u001b[0m     \u001b[38;5;66;03m# If we have a listlike key, _check_indexing_error will raise\u001b[39;00m\n\u001b[1;32m   3815\u001b[0m     \u001b[38;5;66;03m#  InvalidIndexError. Otherwise we fall through and re-raise\u001b[39;00m\n\u001b[1;32m   3816\u001b[0m     \u001b[38;5;66;03m#  the TypeError.\u001b[39;00m\n\u001b[1;32m   3817\u001b[0m     \u001b[38;5;28mself\u001b[39m\u001b[38;5;241m.\u001b[39m_check_indexing_error(key)\n",
      "\u001b[0;31mKeyError\u001b[0m: 'Soort misdrijf'"
     ]
    }
   ],
   "source": [
    "datasets = [bedreiging, cybercrime, discriminatie, drugs, brand_ontploffingen, inbraak_woning,\n",
    "            mishandelingen, moord_doodslag, ongevallen_weg, overval, vuurwerk, wapenhandel, \n",
    "            winkeldiefstal, motorvoertuigen]\n",
    "\n",
    "# Eenvoudige manier om 'Soort misdrijf' op te schonen in alle datasets\n",
    "for df in datasets:\n",
    "    df['Soort misdrijf'] = df['Soort misdrijf'].str.split(' ', n=1).str[1]\n",
    "\n",
    "# Je datasets zijn nu opgeschoond, bijvoorbeeld:\n",
    "datasets[0].head()  # Bekijk de eerste paar rijen van de 'bedreiging' dataset"
   ]
  },
  {
   "cell_type": "code",
   "execution_count": null,
   "metadata": {},
   "outputs": [],
   "source": []
  }
 ],
 "metadata": {
  "colab": {
   "provenance": []
  },
  "kernelspec": {
   "display_name": "Python 3 (ipykernel)",
   "language": "python",
   "name": "python3"
  },
  "language_info": {
   "codemirror_mode": {
    "name": "ipython",
    "version": 3
   },
   "file_extension": ".py",
   "mimetype": "text/x-python",
   "name": "python",
   "nbconvert_exporter": "python",
   "pygments_lexer": "ipython3",
   "version": "3.10.4"
  }
 },
 "nbformat": 4,
 "nbformat_minor": 1
}
