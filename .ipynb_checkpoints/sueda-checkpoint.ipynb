{
 "cells": [
  {
   "cell_type": "code",
   "execution_count": 34,
   "metadata": {},
   "outputs": [],
   "source": [
    "import pandas as pd\n",
    "import glob"
   ]
  },
  {
   "cell_type": "markdown",
   "metadata": {},
   "source": [
    "Deze code leest meerdere CSV-bestanden in een map en toont de eerste paar rijen van elk bestand:\n",
    "\n",
    "1. **Bibliotheken importeren**:\n",
    "   - **pandas** wordt gebruikt om de CSV-bestanden in te lezen.\n",
    "   - **glob** zoekt naar de CSV-bestanden in de map.\n",
    "\n",
    "   ```python\n",
    "   import pandas as pd\n",
    "   import glob\n"
   ]
  },
  {
   "cell_type": "code",
   "execution_count": 38,
   "metadata": {
    "scrolled": true
   },
   "outputs": [],
   "source": [
    "# folder_path = 'data/*.csv'\n",
    "\n",
    "# # Lees alle CSV-bestanden in een lijst van DataFrames\n",
    "# data_list = [pd.read_csv(file) for file in glob.glob(folder_path)]\n",
    "\n",
    "# # Loop door de lijst van DataFrames en toon de eerste paar rijen van elk bestand\n",
    "# for i, df in enumerate(data_list):\n",
    "#     print(f\"Bestand {i+1}:\")\n",
    "#     display(df.head())  # Dit toont de eerste paar rijen van elk bestand in Jupyter\n"
   ]
  },
  {
   "cell_type": "code",
   "execution_count": 39,
   "metadata": {},
   "outputs": [],
   "source": [
    "df = pd.read_csv('data/misdrijven_bedreiging.csv')\n",
    "df = pd.read_csv('data/misdrijven_cybercrime.csv')\n",
    "df = pd.read_csv('data/misdrijven_discriminatie.csv')\n",
    "df = pd.read_csv('data/misdrijven_drugs.csv')\n",
    "df = pd.read_csv('data/misdrijven_brand_ontploffingen.csv')\n",
    "df = pd.read_csv('data/misdrijven_inbraak_woning.csv')\n",
    "df = pd.read_csv('data/misdrijven_mishandeling.csv')\n",
    "df = pd.read_csv('data/misdrijven_moord_doodslag.csv')\n",
    "df = pd.read_csv('data/misdrijven_ongevallen_weg.csv')\n",
    "df = pd.read_csv('data/misdrijven_overval.csv')\n",
    "df = pd.read_csv('data/misdrijven_vuurwerk.csv')\n",
    "df = pd.read_csv('data/misdrijven_wapenhandel.csv')\n",
    "df = pd.read_csv('data/misdrijven_winkeldiefstal.csv')\n",
    "df = pd.read_csv('data/misdrijven_motorvoertuigen.csv')\n",
    "\n"
   ]
  },
  {
   "cell_type": "code",
   "execution_count": null,
   "metadata": {},
   "outputs": [],
   "source": []
  }
 ],
 "metadata": {
  "colab": {
   "provenance": []
  },
  "kernelspec": {
   "display_name": "Python 3 (ipykernel)",
   "language": "python",
   "name": "python3"
  },
  "language_info": {
   "codemirror_mode": {
    "name": "ipython",
    "version": 3
   },
   "file_extension": ".py",
   "mimetype": "text/x-python",
   "name": "python",
   "nbconvert_exporter": "python",
   "pygments_lexer": "ipython3",
   "version": "3.10.4"
  }
 },
 "nbformat": 4,
 "nbformat_minor": 1
}
